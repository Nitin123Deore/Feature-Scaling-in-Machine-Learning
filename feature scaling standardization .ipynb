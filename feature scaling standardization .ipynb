{
 "cells": [
  {
   "cell_type": "code",
   "execution_count": 15,
   "id": "896e83ab",
   "metadata": {},
   "outputs": [],
   "source": [
    "import numpy as np\n",
    "import pandas as pd\n",
    "import matplotlib.pyplot as plt\n",
    "import seaborn as sns"
   ]
  },
  {
   "cell_type": "code",
   "execution_count": 16,
   "id": "fab79ec6",
   "metadata": {},
   "outputs": [
    {
     "data": {
      "text/html": [
       "<div>\n",
       "<style scoped>\n",
       "    .dataframe tbody tr th:only-of-type {\n",
       "        vertical-align: middle;\n",
       "    }\n",
       "\n",
       "    .dataframe tbody tr th {\n",
       "        vertical-align: top;\n",
       "    }\n",
       "\n",
       "    .dataframe thead th {\n",
       "        text-align: right;\n",
       "    }\n",
       "</style>\n",
       "<table border=\"1\" class=\"dataframe\">\n",
       "  <thead>\n",
       "    <tr style=\"text-align: right;\">\n",
       "      <th></th>\n",
       "      <th>Age</th>\n",
       "      <th>EstimatedSalary</th>\n",
       "      <th>Purchased</th>\n",
       "    </tr>\n",
       "  </thead>\n",
       "  <tbody>\n",
       "    <tr>\n",
       "      <th>0</th>\n",
       "      <td>19</td>\n",
       "      <td>19000</td>\n",
       "      <td>0</td>\n",
       "    </tr>\n",
       "    <tr>\n",
       "      <th>1</th>\n",
       "      <td>35</td>\n",
       "      <td>20000</td>\n",
       "      <td>0</td>\n",
       "    </tr>\n",
       "    <tr>\n",
       "      <th>2</th>\n",
       "      <td>26</td>\n",
       "      <td>43000</td>\n",
       "      <td>0</td>\n",
       "    </tr>\n",
       "    <tr>\n",
       "      <th>3</th>\n",
       "      <td>27</td>\n",
       "      <td>57000</td>\n",
       "      <td>0</td>\n",
       "    </tr>\n",
       "    <tr>\n",
       "      <th>4</th>\n",
       "      <td>19</td>\n",
       "      <td>76000</td>\n",
       "      <td>0</td>\n",
       "    </tr>\n",
       "  </tbody>\n",
       "</table>\n",
       "</div>"
      ],
      "text/plain": [
       "   Age  EstimatedSalary  Purchased\n",
       "0   19            19000          0\n",
       "1   35            20000          0\n",
       "2   26            43000          0\n",
       "3   27            57000          0\n",
       "4   19            76000          0"
      ]
     },
     "execution_count": 16,
     "metadata": {},
     "output_type": "execute_result"
    }
   ],
   "source": [
    "df=pd.read_csv('Social_Network_Ads.csv')\n",
    "df.head()"
   ]
  },
  {
   "cell_type": "code",
   "execution_count": 17,
   "id": "7923675c",
   "metadata": {},
   "outputs": [
    {
     "data": {
      "text/plain": [
       "(400, 3)"
      ]
     },
     "execution_count": 17,
     "metadata": {},
     "output_type": "execute_result"
    }
   ],
   "source": [
    "df.shape"
   ]
  },
  {
   "cell_type": "code",
   "execution_count": 18,
   "id": "2445aa30",
   "metadata": {},
   "outputs": [],
   "source": [
    "#df.sort_values('Age',ascending=True)"
   ]
  },
  {
   "cell_type": "code",
   "execution_count": null,
   "id": "ebb7c91e",
   "metadata": {},
   "outputs": [],
   "source": []
  },
  {
   "cell_type": "markdown",
   "id": "e1eb607b",
   "metadata": {},
   "source": [
    "# Train test split"
   ]
  },
  {
   "cell_type": "code",
   "execution_count": 19,
   "id": "4f73f17a",
   "metadata": {},
   "outputs": [],
   "source": [
    "from sklearn.model_selection import train_test_split\n",
    "X_train, X_test ,y_train, y_test=train_test_split(df.drop('Purchased',axis=1),\n",
    "                                                  df.Purchased,test_size=0.3,random_state=4)"
   ]
  },
  {
   "cell_type": "code",
   "execution_count": 20,
   "id": "06ecea54",
   "metadata": {},
   "outputs": [
    {
     "data": {
      "text/plain": [
       "((280, 2), (120, 2))"
      ]
     },
     "execution_count": 20,
     "metadata": {},
     "output_type": "execute_result"
    }
   ],
   "source": [
    "X_train.shape,X_test.shape"
   ]
  },
  {
   "cell_type": "code",
   "execution_count": 21,
   "id": "aa7627da",
   "metadata": {},
   "outputs": [
    {
     "data": {
      "text/plain": [
       "((280,), (120,))"
      ]
     },
     "execution_count": 21,
     "metadata": {},
     "output_type": "execute_result"
    }
   ],
   "source": [
    "y_train.shape,y_test.shape"
   ]
  },
  {
   "cell_type": "markdown",
   "id": "054c201e",
   "metadata": {},
   "source": [
    "# standard scalar"
   ]
  },
  {
   "cell_type": "code",
   "execution_count": 22,
   "id": "b114d861",
   "metadata": {},
   "outputs": [],
   "source": [
    "from sklearn.preprocessing import StandardScaler\n",
    "scalar=StandardScaler()\n",
    "#scalar.fit(X_train)\n",
    "X_train_scaled=scalar.fit_transform(X_train)\n",
    "X_test_scaled=scalar.transform(X_test)"
   ]
  },
  {
   "cell_type": "code",
   "execution_count": 23,
   "id": "8589b531",
   "metadata": {},
   "outputs": [
    {
     "data": {
      "text/plain": [
       "array([3.78464286e+01, 7.07035714e+04])"
      ]
     },
     "execution_count": 23,
     "metadata": {},
     "output_type": "execute_result"
    }
   ],
   "source": [
    "scalar.mean_"
   ]
  },
  {
   "cell_type": "code",
   "execution_count": 24,
   "id": "5bd9584c",
   "metadata": {},
   "outputs": [
    {
     "data": {
      "text/plain": [
       "33     0\n",
       "195    0\n",
       "286    0\n",
       "221    1\n",
       "239    1\n",
       "      ..\n",
       "360    1\n",
       "385    1\n",
       "197    0\n",
       "174    0\n",
       "122    0\n",
       "Name: Purchased, Length: 280, dtype: int64"
      ]
     },
     "execution_count": 24,
     "metadata": {},
     "output_type": "execute_result"
    }
   ],
   "source": [
    "y_train"
   ]
  },
  {
   "cell_type": "code",
   "execution_count": 27,
   "id": "1cb98992",
   "metadata": {},
   "outputs": [
    {
     "data": {
      "text/plain": [
       "array([[-0.94662201, -0.78624689],\n",
       "       [-0.36979032, -0.8156904 ],\n",
       "       [-0.08137447, -0.2562637 ],\n",
       "       [-0.2736517 ,  0.59759811],\n",
       "       [ 1.45684338,  2.12866066],\n",
       "       [-1.13889924,  0.303163  ],\n",
       "       [ 0.11090276,  0.0087279 ],\n",
       "       [ 0.01476414, -0.28570721],\n",
       "       [ 0.39931861,  0.5681546 ],\n",
       "       [ 0.88001168, -1.08068199],\n",
       "       [ 0.30317999, -0.5506988 ],\n",
       "       [-1.23503786,  0.24427598],\n",
       "       [ 1.93753645, -0.69791635],\n",
       "       [-0.56206755,  1.89311257],\n",
       "       [-0.2736517 , -0.60958582],\n",
       "       [-0.08137447,  2.21699119],\n",
       "       [-0.65820616, -0.37403774],\n",
       "       [-0.56206755,  0.8625897 ],\n",
       "       [-0.08137447, -0.5506988 ],\n",
       "       [-0.94662201, -0.99235146],\n",
       "       [ 2.12981369, -1.08068199],\n",
       "       [ 0.9761503 ,  2.06977363],\n",
       "       [ 0.30317999,  0.27371949],\n",
       "       [ 0.39931861, -0.49181178],\n",
       "       [ 1.36070476, -1.46344763],\n",
       "       [ 0.39931861,  0.12650194],\n",
       "       [-0.75434478,  1.06869428],\n",
       "       [ 0.88001168, -1.34567359],\n",
       "       [-1.42731509, -1.25734306],\n",
       "       [-0.8504834 ,  0.12650194],\n",
       "       [-0.75434478,  1.33368587],\n",
       "       [ 0.88001168,  2.15810417],\n",
       "       [ 1.93753645,  0.89203321],\n",
       "       [-0.94662201, -0.34459423],\n",
       "       [ 0.39931861, -0.16793317],\n",
       "       [-0.08137447,  0.18538896],\n",
       "       [-1.04276063, -1.16901252],\n",
       "       [ 2.12981369, -0.84513391],\n",
       "       [ 0.68773445, -1.31623008],\n",
       "       [ 0.9761503 , -1.19845603],\n",
       "       [-1.33117647, -1.28678657],\n",
       "       [ 0.68773445, -1.43400412],\n",
       "       [-0.2736517 ,  0.24427598],\n",
       "       [ 0.88001168, -0.8156904 ],\n",
       "       [ 2.03367507,  0.15594545],\n",
       "       [ 0.30317999,  0.0087279 ],\n",
       "       [-0.36979032, -1.34567359],\n",
       "       [-0.08137447,  0.24427598],\n",
       "       [ 1.07228892,  0.50926758],\n",
       "       [ 0.39931861,  0.24427598],\n",
       "       [-1.61959232,  0.50926758],\n",
       "       [-1.71573093,  0.33260651],\n",
       "       [ 2.12981369, -0.72735987],\n",
       "       [ 0.20704138,  0.12650194],\n",
       "       [-0.65820616, -0.07960263],\n",
       "       [-0.17751309,  2.15810417],\n",
       "       [ 1.55298199,  1.09813779],\n",
       "       [ 0.30317999,  0.03817141],\n",
       "       [-1.81186955, -1.31623008],\n",
       "       [ 0.9761503 ,  0.74481566],\n",
       "       [ 0.20704138, -0.40348125],\n",
       "       [-0.08137447, -0.46236827],\n",
       "       [ 0.11090276,  1.86366906],\n",
       "       [-0.56206755,  1.36312938],\n",
       "       [ 2.12981369,  0.36205002],\n",
       "       [-0.17751309,  1.39257289],\n",
       "       [ 0.20704138, -0.16793317],\n",
       "       [ 0.20704138,  1.06869428],\n",
       "       [-0.65820616, -0.13848965],\n",
       "       [ 0.11090276,  0.12650194],\n",
       "       [-0.75434478,  0.47982407],\n",
       "       [ 1.07228892, -0.16793317],\n",
       "       [-1.23503786, -1.43400412],\n",
       "       [ 1.84139784,  0.09705843],\n",
       "       [-0.17751309, -0.31515072],\n",
       "       [ 0.01476414, -0.60958582],\n",
       "       [ 0.9761503 , -1.22789954],\n",
       "       [ 2.12981369, -0.84513391],\n",
       "       [-0.17751309, -0.5506988 ],\n",
       "       [-0.75434478,  1.89311257],\n",
       "       [ 1.64912061,  1.59867747],\n",
       "       [ 0.20704138,  0.0087279 ],\n",
       "       [ 0.30317999,  0.47982407],\n",
       "       [ 0.30317999, -1.19845603],\n",
       "       [-1.33117647, -0.37403774],\n",
       "       [ 2.03367507,  1.74589502],\n",
       "       [ 0.39931861, -0.02071561],\n",
       "       [-0.2736517 ,  0.12650194],\n",
       "       [-0.08137447, -0.02071561],\n",
       "       [ 2.12981369,  0.92147672],\n",
       "       [ 0.39931861,  1.09813779],\n",
       "       [ 1.07228892, -1.25734306],\n",
       "       [ 0.88001168,  1.00980726],\n",
       "       [-1.23503786, -1.1101255 ],\n",
       "       [-0.08137447,  0.0087279 ],\n",
       "       [ 0.78387307, -1.13956901],\n",
       "       [-0.75434478, -0.63902933],\n",
       "       [ 0.11090276,  0.0087279 ],\n",
       "       [ 0.20704138, -0.34459423],\n",
       "       [ 0.39931861, -0.52125529],\n",
       "       [ 0.11090276,  1.86366906],\n",
       "       [ 0.68773445, -1.43400412],\n",
       "       [-0.2736517 ,  0.03817141],\n",
       "       [ 1.55298199,  0.98036375],\n",
       "       [-1.5234537 ,  0.303163  ],\n",
       "       [-1.90800817, -0.5506988 ],\n",
       "       [-1.13889924,  0.45038056],\n",
       "       [-0.8504834 , -0.8156904 ],\n",
       "       [ 0.01476414, -0.46236827],\n",
       "       [-0.08137447, -1.1101255 ],\n",
       "       [-0.2736517 , -1.28678657],\n",
       "       [ 1.26456615, -1.40456061],\n",
       "       [ 0.01476414,  0.0087279 ],\n",
       "       [-1.33117647, -1.40456061],\n",
       "       [ 0.11090276, -0.84513391],\n",
       "       [-0.2736517 , -0.96290795],\n",
       "       [-0.94662201,  0.24427598],\n",
       "       [-0.08137447,  0.03817141],\n",
       "       [ 0.78387307, -1.43400412],\n",
       "       [ 1.45684338,  0.98036375],\n",
       "       [ 0.78387307,  0.33260651],\n",
       "       [ 1.07228892, -1.25734306],\n",
       "       [ 1.16842753,  0.50926758],\n",
       "       [ 0.88001168,  1.24535534],\n",
       "       [-1.81186955,  0.42093705],\n",
       "       [ 1.45684338, -1.08068199],\n",
       "       [-1.81186955, -1.46344763],\n",
       "       [-1.81186955,  0.15594545],\n",
       "       [-0.08137447,  0.65648513],\n",
       "       [-1.5234537 , -1.28678657],\n",
       "       [-0.08137447, -0.40348125],\n",
       "       [ 2.03367507, -1.22789954],\n",
       "       [ 1.93753645, -0.96290795],\n",
       "       [-1.42731509, -0.22682019],\n",
       "       [-1.42731509, -0.13848965],\n",
       "       [ 0.01476414, -0.16793317],\n",
       "       [ 0.78387307,  0.74481566],\n",
       "       [ 0.49545722,  1.21591183],\n",
       "       [-0.65820616, -1.64010869],\n",
       "       [-0.2736517 ,  0.77425917],\n",
       "       [ 1.45684338,  0.03817141],\n",
       "       [ 1.74525922,  1.83422555],\n",
       "       [-0.2736517 , -0.28570721],\n",
       "       [-1.13889924, -0.8156904 ],\n",
       "       [-0.46592893, -1.25734306],\n",
       "       [-0.65820616, -1.55177816],\n",
       "       [-1.04276063, -0.37403774],\n",
       "       [-1.61959232, -1.61066518],\n",
       "       [ 0.20704138, -0.40348125],\n",
       "       [ 0.78387307, -0.34459423],\n",
       "       [-0.08137447,  0.21483247],\n",
       "       [ 2.03367507,  0.50926758],\n",
       "       [ 0.01476414, -0.28570721],\n",
       "       [ 0.9761503 , -1.1101255 ],\n",
       "       [-0.56206755, -1.55177816],\n",
       "       [ 0.68773445,  1.77533853],\n",
       "       [-0.75434478,  0.53871109],\n",
       "       [-0.46592893, -0.58014231],\n",
       "       [-1.13889924,  0.27371949],\n",
       "       [-0.65820616, -1.08068199],\n",
       "       [-0.56206755,  2.33476523],\n",
       "       [ 0.20704138,  2.09921715],\n",
       "       [-0.8504834 , -0.28570721],\n",
       "       [ 0.68773445,  0.24427598],\n",
       "       [-0.17751309,  1.59867747],\n",
       "       [ 1.55298199, -1.31623008],\n",
       "       [ 0.11090276,  0.06761492],\n",
       "       [-0.94662201,  1.53979045],\n",
       "       [ 2.12981369,  1.09813779],\n",
       "       [ 0.39931861, -0.19737668],\n",
       "       [-1.13889924, -1.58122167],\n",
       "       [-0.2736517 ,  2.2464347 ],\n",
       "       [ 0.88001168, -0.60958582],\n",
       "       [ 0.30317999, -0.34459423],\n",
       "       [ 1.93753645, -1.40456061],\n",
       "       [-1.90800817, -0.07960263],\n",
       "       [-0.8504834 ,  0.27371949],\n",
       "       [-1.13889924, -1.13956901],\n",
       "       [-1.33117647, -0.46236827],\n",
       "       [-0.36979032,  1.30424236],\n",
       "       [ 0.88001168, -1.19845603],\n",
       "       [ 0.11090276,  1.03925077],\n",
       "       [ 0.01476414,  1.21591183],\n",
       "       [ 0.20704138, -0.40348125],\n",
       "       [-1.13889924, -1.64010869],\n",
       "       [ 1.93753645,  2.15810417],\n",
       "       [-1.42731509,  0.33260651],\n",
       "       [-0.2736517 , -0.31515072],\n",
       "       [ 0.88001168, -1.40456061],\n",
       "       [-1.04276063, -1.58122167],\n",
       "       [ 0.9761503 ,  1.77533853],\n",
       "       [-0.2736517 ,  0.18538896],\n",
       "       [-0.46592893, -1.16901252],\n",
       "       [-0.08137447,  0.12650194],\n",
       "       [ 0.11090276,  0.18538896],\n",
       "       [-0.75434478,  0.24427598],\n",
       "       [-0.2736517 , -1.40456061],\n",
       "       [ 0.11090276, -0.28570721],\n",
       "       [-0.2736517 , -0.16793317],\n",
       "       [-0.94662201,  0.47982407],\n",
       "       [ 0.39931861,  0.06761492],\n",
       "       [-1.04276063,  1.95199959],\n",
       "       [ 0.88001168,  1.06869428],\n",
       "       [-0.36979032,  1.21591183],\n",
       "       [ 0.30317999,  0.03817141],\n",
       "       [-1.13889924, -1.19845603],\n",
       "       [-1.04276063, -0.37403774],\n",
       "       [ 0.59159584, -0.93346444],\n",
       "       [-1.90800817,  0.45038056],\n",
       "       [ 0.9761503 ,  0.5681546 ],\n",
       "       [-1.90800817, -0.78624689],\n",
       "       [-1.04276063,  0.53871109],\n",
       "       [-0.56206755,  1.36312938],\n",
       "       [ 1.64912061, -0.93346444],\n",
       "       [-0.65820616,  1.39257289],\n",
       "       [-0.17751309,  0.83314619],\n",
       "       [-0.65820616,  0.0087279 ],\n",
       "       [-0.2736517 , -1.43400412],\n",
       "       [-0.08137447,  0.27371949],\n",
       "       [ 0.11090276, -0.84513391],\n",
       "       [-1.13889924,  0.27371949],\n",
       "       [-0.08137447,  0.27371949],\n",
       "       [ 1.16842753, -1.02179497],\n",
       "       [ 0.9761503 ,  1.4220164 ],\n",
       "       [ 0.30317999, -0.22682019],\n",
       "       [-1.33117647,  0.39149353],\n",
       "       [ 0.9761503 , -0.87457742],\n",
       "       [-0.08137447,  2.15810417],\n",
       "       [ 0.39931861,  0.27371949],\n",
       "       [ 0.30317999, -0.75680338],\n",
       "       [-0.2736517 , -0.69791635],\n",
       "       [-0.46592893, -0.87457742],\n",
       "       [-0.46592893,  1.24535534],\n",
       "       [ 0.20704138,  0.21483247],\n",
       "       [ 0.39931861,  2.30532172],\n",
       "       [-1.33117647,  0.53871109],\n",
       "       [-1.33117647, -1.13956901],\n",
       "       [ 1.36070476,  0.5681546 ],\n",
       "       [-0.2736517 , -0.78624689],\n",
       "       [-0.2736517 ,  0.06761492],\n",
       "       [ 1.36070476,  1.27479885],\n",
       "       [-1.04276063, -0.40348125],\n",
       "       [ 0.9761503 , -1.1101255 ],\n",
       "       [ 0.30317999,  0.24427598],\n",
       "       [-1.23503786,  0.5681546 ],\n",
       "       [ 1.74525922,  0.98036375],\n",
       "       [-0.8504834 ,  2.27587821],\n",
       "       [ 0.88001168, -0.58014231],\n",
       "       [ 0.30317999, -0.5506988 ],\n",
       "       [-0.65820616,  0.53871109],\n",
       "       [-1.71573093,  0.33260651],\n",
       "       [-0.65820616,  0.09705843],\n",
       "       [-0.17751309, -1.1101255 ],\n",
       "       [-0.94662201,  0.53871109],\n",
       "       [-1.42731509, -0.66847284],\n",
       "       [ 1.07228892,  0.09705843],\n",
       "       [-1.71573093,  0.09705843],\n",
       "       [ 0.88001168, -0.63902933],\n",
       "       [-0.46592893, -0.8156904 ],\n",
       "       [-1.81186955, -1.52233465],\n",
       "       [-0.8504834 ,  0.36205002],\n",
       "       [ 0.39931861, -0.16793317],\n",
       "       [-0.2736517 , -0.40348125],\n",
       "       [-0.94662201,  0.39149353],\n",
       "       [-0.46592893, -0.05015912],\n",
       "       [ 0.78387307, -0.87457742],\n",
       "       [ 1.07228892,  2.06977363],\n",
       "       [ 0.11090276,  0.74481566],\n",
       "       [-0.8504834 ,  0.36205002],\n",
       "       [ 0.01476414,  0.27371949],\n",
       "       [ 0.39931861, -0.49181178],\n",
       "       [ 0.9761503 ,  1.86366906],\n",
       "       [-1.5234537 , -1.55177816],\n",
       "       [ 1.26456615,  1.86366906],\n",
       "       [-0.94662201,  0.42093705],\n",
       "       [ 0.49545722,  1.71645151],\n",
       "       [ 1.74525922, -0.31515072],\n",
       "       [-1.71573093, -1.02179497],\n",
       "       [-0.36979032,  0.03817141],\n",
       "       [ 0.20704138,  0.12650194]])"
      ]
     },
     "execution_count": 27,
     "metadata": {},
     "output_type": "execute_result"
    }
   ],
   "source": [
    "#check after scaled value\n",
    "X_train_scaled"
   ]
  },
  {
   "cell_type": "code",
   "execution_count": 30,
   "id": "d8185001",
   "metadata": {},
   "outputs": [],
   "source": [
    "#convert dataframe\n",
    "X_train_scaled=pd.DataFrame(X_train_scaled,columns=X_train.columns)\n",
    "X_test_scaled=pd.DataFrame(X_test_scaled,columns=X_test.columns)"
   ]
  },
  {
   "cell_type": "code",
   "execution_count": 31,
   "id": "4e5c675d",
   "metadata": {},
   "outputs": [
    {
     "data": {
      "text/html": [
       "<div>\n",
       "<style scoped>\n",
       "    .dataframe tbody tr th:only-of-type {\n",
       "        vertical-align: middle;\n",
       "    }\n",
       "\n",
       "    .dataframe tbody tr th {\n",
       "        vertical-align: top;\n",
       "    }\n",
       "\n",
       "    .dataframe thead th {\n",
       "        text-align: right;\n",
       "    }\n",
       "</style>\n",
       "<table border=\"1\" class=\"dataframe\">\n",
       "  <thead>\n",
       "    <tr style=\"text-align: right;\">\n",
       "      <th></th>\n",
       "      <th>Age</th>\n",
       "      <th>EstimatedSalary</th>\n",
       "    </tr>\n",
       "  </thead>\n",
       "  <tbody>\n",
       "    <tr>\n",
       "      <th>count</th>\n",
       "      <td>280.0</td>\n",
       "      <td>280.0</td>\n",
       "    </tr>\n",
       "    <tr>\n",
       "      <th>mean</th>\n",
       "      <td>38.0</td>\n",
       "      <td>70704.0</td>\n",
       "    </tr>\n",
       "    <tr>\n",
       "      <th>std</th>\n",
       "      <td>10.0</td>\n",
       "      <td>34024.0</td>\n",
       "    </tr>\n",
       "    <tr>\n",
       "      <th>min</th>\n",
       "      <td>18.0</td>\n",
       "      <td>15000.0</td>\n",
       "    </tr>\n",
       "    <tr>\n",
       "      <th>25%</th>\n",
       "      <td>30.0</td>\n",
       "      <td>43000.0</td>\n",
       "    </tr>\n",
       "    <tr>\n",
       "      <th>50%</th>\n",
       "      <td>37.0</td>\n",
       "      <td>71000.0</td>\n",
       "    </tr>\n",
       "    <tr>\n",
       "      <th>75%</th>\n",
       "      <td>46.0</td>\n",
       "      <td>89000.0</td>\n",
       "    </tr>\n",
       "    <tr>\n",
       "      <th>max</th>\n",
       "      <td>60.0</td>\n",
       "      <td>150000.0</td>\n",
       "    </tr>\n",
       "  </tbody>\n",
       "</table>\n",
       "</div>"
      ],
      "text/plain": [
       "         Age  EstimatedSalary\n",
       "count  280.0            280.0\n",
       "mean    38.0          70704.0\n",
       "std     10.0          34024.0\n",
       "min     18.0          15000.0\n",
       "25%     30.0          43000.0\n",
       "50%     37.0          71000.0\n",
       "75%     46.0          89000.0\n",
       "max     60.0         150000.0"
      ]
     },
     "execution_count": 31,
     "metadata": {},
     "output_type": "execute_result"
    }
   ],
   "source": [
    "# before stastistic data X_train\n",
    "np.round(X_train.describe())"
   ]
  },
  {
   "cell_type": "code",
   "execution_count": 32,
   "id": "a70be72b",
   "metadata": {},
   "outputs": [
    {
     "data": {
      "text/html": [
       "<div>\n",
       "<style scoped>\n",
       "    .dataframe tbody tr th:only-of-type {\n",
       "        vertical-align: middle;\n",
       "    }\n",
       "\n",
       "    .dataframe tbody tr th {\n",
       "        vertical-align: top;\n",
       "    }\n",
       "\n",
       "    .dataframe thead th {\n",
       "        text-align: right;\n",
       "    }\n",
       "</style>\n",
       "<table border=\"1\" class=\"dataframe\">\n",
       "  <thead>\n",
       "    <tr style=\"text-align: right;\">\n",
       "      <th></th>\n",
       "      <th>Age</th>\n",
       "      <th>EstimatedSalary</th>\n",
       "    </tr>\n",
       "  </thead>\n",
       "  <tbody>\n",
       "    <tr>\n",
       "      <th>count</th>\n",
       "      <td>280.0</td>\n",
       "      <td>280.0</td>\n",
       "    </tr>\n",
       "    <tr>\n",
       "      <th>mean</th>\n",
       "      <td>0.0</td>\n",
       "      <td>-0.0</td>\n",
       "    </tr>\n",
       "    <tr>\n",
       "      <th>std</th>\n",
       "      <td>1.0</td>\n",
       "      <td>1.0</td>\n",
       "    </tr>\n",
       "    <tr>\n",
       "      <th>min</th>\n",
       "      <td>-2.0</td>\n",
       "      <td>-2.0</td>\n",
       "    </tr>\n",
       "    <tr>\n",
       "      <th>25%</th>\n",
       "      <td>-1.0</td>\n",
       "      <td>-1.0</td>\n",
       "    </tr>\n",
       "    <tr>\n",
       "      <th>50%</th>\n",
       "      <td>-0.0</td>\n",
       "      <td>0.0</td>\n",
       "    </tr>\n",
       "    <tr>\n",
       "      <th>75%</th>\n",
       "      <td>1.0</td>\n",
       "      <td>1.0</td>\n",
       "    </tr>\n",
       "    <tr>\n",
       "      <th>max</th>\n",
       "      <td>2.0</td>\n",
       "      <td>2.0</td>\n",
       "    </tr>\n",
       "  </tbody>\n",
       "</table>\n",
       "</div>"
      ],
      "text/plain": [
       "         Age  EstimatedSalary\n",
       "count  280.0            280.0\n",
       "mean     0.0             -0.0\n",
       "std      1.0              1.0\n",
       "min     -2.0             -2.0\n",
       "25%     -1.0             -1.0\n",
       "50%     -0.0              0.0\n",
       "75%      1.0              1.0\n",
       "max      2.0              2.0"
      ]
     },
     "execution_count": 32,
     "metadata": {},
     "output_type": "execute_result"
    }
   ],
   "source": [
    "# after stastistic data X_train\n",
    "np.round(X_train_scaled.describe())"
   ]
  },
  {
   "cell_type": "markdown",
   "id": "d742a268",
   "metadata": {},
   "source": [
    "# Effect of Scaling"
   ]
  },
  {
   "cell_type": "code",
   "execution_count": 33,
   "id": "b650f018",
   "metadata": {},
   "outputs": [
    {
     "data": {
      "text/plain": [
       "Text(0.5, 1.0, 'after scaling')"
      ]
     },
     "execution_count": 33,
     "metadata": {},
     "output_type": "execute_result"
    },
    {
     "data": {
      "image/png": "[encoded data removed]",
      "text/plain": [
       "<Figure size 864x360 with 2 Axes>"
      ]
     },
     "metadata": {
      "needs_background": "light"
     },
     "output_type": "display_data"
    }
   ],
   "source": [
    "fig,(ax1,ax2)=plt.subplots(ncols=2,figsize=(12,5))\n",
    "ax1.scatter(X_train['Age'],X_train['EstimatedSalary'])\n",
    "ax1.set_title('Before scaling')\n",
    "ax2.scatter(X_train_scaled['Age'],X_train_scaled['EstimatedSalary'],color='g')\n",
    "ax2.set_title('after scaling')"
   ]
  },
  {
   "cell_type": "code",
   "execution_count": 36,
   "id": "d8ba9f09",
   "metadata": {},
   "outputs": [
    {
     "data": {
      "image/png": "[encoded data removed]",
      "text/plain": [
       "<Figure size 864x360 with 2 Axes>"
      ]
     },
     "metadata": {
      "needs_background": "light"
     },
     "output_type": "display_data"
    }
   ],
   "source": [
    "fig,(ax1,ax2)=plt.subplots(ncols=2,figsize=(12,5))\n",
    "ax1.set_title('Before scaling')\n",
    "sns.kdeplot(X_train['Age'],ax=ax1)\n",
    "sns.kdeplot(X_train['EstimatedSalary'],ax=ax1)\n",
    "\n",
    "\n",
    "ax2.set_title('after standard scaling')\n",
    "sns.kdeplot(X_train_scaled['Age'],ax=ax2)\n",
    "sns.kdeplot(X_train_scaled['EstimatedSalary'],ax=ax2)\n",
    "plt.legend(['Age','Salary'])\n",
    "plt.show()"
   ]
  },
  {
   "cell_type": "markdown",
   "id": "cdf78010",
   "metadata": {},
   "source": [
    "# Comparism and distribution"
   ]
  },
  {
   "cell_type": "code",
   "execution_count": 17,
   "id": "65daf11d",
   "metadata": {},
   "outputs": [
    {
     "data": {
      "image/png": "[encoded data removed]",
      "text/plain": [
       "<Figure size 864x360 with 2 Axes>"
      ]
     },
     "metadata": {
      "needs_background": "light"
     },
     "output_type": "display_data"
    }
   ],
   "source": [
    "fig,(ax1,ax2)=plt.subplots(ncols=2,figsize=(12,5))\n",
    "\n",
    "#before scaling\n",
    "ax1.set_title('age distribution before scaling')\n",
    "sns.kdeplot(X_train['Age'],ax=ax1)\n",
    "\n",
    "#after scaling\n",
    "ax2.set_title('age distribution after scaling')\n",
    "sns.kdeplot(X_train_scaled['Age'],ax=ax2)\n",
    "plt.show()"
   ]
  },
  {
   "cell_type": "code",
   "execution_count": 18,
   "id": "7307b123",
   "metadata": {},
   "outputs": [
    {
     "data": {
      "image/png": "[encoded data removed]",
      "text/plain": [
       "<Figure size 864x360 with 2 Axes>"
      ]
     },
     "metadata": {
      "needs_background": "light"
     },
     "output_type": "display_data"
    }
   ],
   "source": [
    "fig,(ax1,ax2)=plt.subplots(ncols=2,figsize=(12,5))\n",
    "\n",
    "#before scaling\n",
    "ax1.set_title('age EstimatedSalary before scaling')\n",
    "sns.kdeplot(X_train['EstimatedSalary'],ax=ax1)\n",
    "\n",
    "#after scaling\n",
    "ax2.set_title('age EstimatedSalary before scaling')\n",
    "sns.kdeplot(X_train_scaled['EstimatedSalary'],ax=ax2)\n",
    "plt.show()"
   ]
  },
  {
   "cell_type": "markdown",
   "id": "33ef94b1",
   "metadata": {},
   "source": [
    "# why Scaling is important?"
   ]
  },
  {
   "cell_type": "code",
   "execution_count": 19,
   "id": "c6a25eac",
   "metadata": {},
   "outputs": [],
   "source": [
    "from sklearn.linear_model import LogisticRegression\n"
   ]
  },
  {
   "cell_type": "code",
   "execution_count": 20,
   "id": "c0cb634a",
   "metadata": {},
   "outputs": [],
   "source": [
    "lr=LogisticRegression()\n",
    "lr_scaled=LogisticRegression()"
   ]
  },
  {
   "cell_type": "code",
   "execution_count": 21,
   "id": "aa59c5e8",
   "metadata": {},
   "outputs": [
    {
     "data": {
      "text/plain": [
       "LogisticRegression()"
      ]
     },
     "execution_count": 21,
     "metadata": {},
     "output_type": "execute_result"
    }
   ],
   "source": [
    "lr.fit(X_train, y_train)\n",
    "lr_scaled.fit(X_train_scaled,y_train)"
   ]
  },
  {
   "cell_type": "code",
   "execution_count": 22,
   "id": "c0cf0836",
   "metadata": {},
   "outputs": [],
   "source": [
    "#prediction\n",
    "y_pred=lr.predict(X_test)\n",
    "\n",
    "# feature scaling prediction\n",
    "y_pred_scaled=lr_scaled.predict(X_test_scaled)"
   ]
  },
  {
   "cell_type": "code",
   "execution_count": 23,
   "id": "20cf30eb",
   "metadata": {},
   "outputs": [],
   "source": [
    "# ckeck accuracy\n",
    "from sklearn.metrics import accuracy_score"
   ]
  },
  {
   "cell_type": "code",
   "execution_count": 24,
   "id": "2e3e70fb",
   "metadata": {},
   "outputs": [
    {
     "name": "stdout",
     "output_type": "stream",
     "text": [
      "Actula accuracy 0.675\n",
      "Scaled accuracy 0.8916666666666667\n"
     ]
    }
   ],
   "source": [
    "print('Actula accuracy',accuracy_score(y_pred,y_test))\n",
    "print('Scaled accuracy',accuracy_score(y_pred_scaled,y_test))"
   ]
  },
  {
   "cell_type": "code",
   "execution_count": 25,
   "id": "4ce8d460",
   "metadata": {},
   "outputs": [],
   "source": [
    "from sklearn.tree import DecisionTreeClassifier\n",
    "tree=DecisionTreeClassifier()\n",
    "tree_scaled=DecisionTreeClassifier()"
   ]
  },
  {
   "cell_type": "code",
   "execution_count": 26,
   "id": "9f37b0f4",
   "metadata": {},
   "outputs": [
    {
     "data": {
      "text/plain": [
       "DecisionTreeClassifier()"
      ]
     },
     "execution_count": 26,
     "metadata": {},
     "output_type": "execute_result"
    }
   ],
   "source": [
    "tree.fit(X_train, y_train)\n",
    "tree_scaled.fit(X_train_scaled, y_train)"
   ]
  },
  {
   "cell_type": "code",
   "execution_count": 27,
   "id": "f332da8e",
   "metadata": {},
   "outputs": [],
   "source": [
    "#prediction\n",
    "y_pred=tree.predict(X_test)\n",
    "\n",
    "# feature scaling prediction\n",
    "y_pred_scaled=tree_scaled.predict(X_test_scaled)"
   ]
  },
  {
   "cell_type": "code",
   "execution_count": 28,
   "id": "0e4f0c37",
   "metadata": {},
   "outputs": [
    {
     "name": "stdout",
     "output_type": "stream",
     "text": [
      "Actula accuracy 0.8833333333333333\n",
      "Scaled accuracy 0.825\n"
     ]
    }
   ],
   "source": [
    "print('Actula accuracy',accuracy_score(y_pred,y_test))\n",
    "print('Scaled accuracy',accuracy_score(y_pred_scaled,y_test))"
   ]
  },
  {
   "cell_type": "code",
   "execution_count": 29,
   "id": "f93c69f4",
   "metadata": {},
   "outputs": [
    {
     "data": {
      "text/html": [
       "<div>\n",
       "<style scoped>\n",
       "    .dataframe tbody tr th:only-of-type {\n",
       "        vertical-align: middle;\n",
       "    }\n",
       "\n",
       "    .dataframe tbody tr th {\n",
       "        vertical-align: top;\n",
       "    }\n",
       "\n",
       "    .dataframe thead th {\n",
       "        text-align: right;\n",
       "    }\n",
       "</style>\n",
       "<table border=\"1\" class=\"dataframe\">\n",
       "  <thead>\n",
       "    <tr style=\"text-align: right;\">\n",
       "      <th></th>\n",
       "      <th>Age</th>\n",
       "      <th>EstimatedSalary</th>\n",
       "      <th>Purchased</th>\n",
       "    </tr>\n",
       "  </thead>\n",
       "  <tbody>\n",
       "    <tr>\n",
       "      <th>count</th>\n",
       "      <td>400.000000</td>\n",
       "      <td>400.000000</td>\n",
       "      <td>400.000000</td>\n",
       "    </tr>\n",
       "    <tr>\n",
       "      <th>mean</th>\n",
       "      <td>37.655000</td>\n",
       "      <td>69742.500000</td>\n",
       "      <td>0.357500</td>\n",
       "    </tr>\n",
       "    <tr>\n",
       "      <th>std</th>\n",
       "      <td>10.482877</td>\n",
       "      <td>34096.960282</td>\n",
       "      <td>0.479864</td>\n",
       "    </tr>\n",
       "    <tr>\n",
       "      <th>min</th>\n",
       "      <td>18.000000</td>\n",
       "      <td>15000.000000</td>\n",
       "      <td>0.000000</td>\n",
       "    </tr>\n",
       "    <tr>\n",
       "      <th>25%</th>\n",
       "      <td>29.750000</td>\n",
       "      <td>43000.000000</td>\n",
       "      <td>0.000000</td>\n",
       "    </tr>\n",
       "    <tr>\n",
       "      <th>50%</th>\n",
       "      <td>37.000000</td>\n",
       "      <td>70000.000000</td>\n",
       "      <td>0.000000</td>\n",
       "    </tr>\n",
       "    <tr>\n",
       "      <th>75%</th>\n",
       "      <td>46.000000</td>\n",
       "      <td>88000.000000</td>\n",
       "      <td>1.000000</td>\n",
       "    </tr>\n",
       "    <tr>\n",
       "      <th>max</th>\n",
       "      <td>60.000000</td>\n",
       "      <td>150000.000000</td>\n",
       "      <td>1.000000</td>\n",
       "    </tr>\n",
       "  </tbody>\n",
       "</table>\n",
       "</div>"
      ],
      "text/plain": [
       "              Age  EstimatedSalary   Purchased\n",
       "count  400.000000       400.000000  400.000000\n",
       "mean    37.655000     69742.500000    0.357500\n",
       "std     10.482877     34096.960282    0.479864\n",
       "min     18.000000     15000.000000    0.000000\n",
       "25%     29.750000     43000.000000    0.000000\n",
       "50%     37.000000     70000.000000    0.000000\n",
       "75%     46.000000     88000.000000    1.000000\n",
       "max     60.000000    150000.000000    1.000000"
      ]
     },
     "execution_count": 29,
     "metadata": {},
     "output_type": "execute_result"
    }
   ],
   "source": [
    "df.describe()"
   ]
  },
  {
   "cell_type": "code",
   "execution_count": 30,
   "id": "a3ce3cb9",
   "metadata": {},
   "outputs": [],
   "source": [
    "# add the outlier"
   ]
  },
  {
   "cell_type": "code",
   "execution_count": 31,
   "id": "577043cf",
   "metadata": {},
   "outputs": [],
   "source": [
    "df=df.append(pd.DataFrame({'Age':[5,90,95]}))"
   ]
  },
  {
   "cell_type": "code",
   "execution_count": 32,
   "id": "05b1114a",
   "metadata": {},
   "outputs": [
    {
     "data": {
      "text/html": [
       "<div>\n",
       "<style scoped>\n",
       "    .dataframe tbody tr th:only-of-type {\n",
       "        vertical-align: middle;\n",
       "    }\n",
       "\n",
       "    .dataframe tbody tr th {\n",
       "        vertical-align: top;\n",
       "    }\n",
       "\n",
       "    .dataframe thead th {\n",
       "        text-align: right;\n",
       "    }\n",
       "</style>\n",
       "<table border=\"1\" class=\"dataframe\">\n",
       "  <thead>\n",
       "    <tr style=\"text-align: right;\">\n",
       "      <th></th>\n",
       "      <th>Age</th>\n",
       "      <th>EstimatedSalary</th>\n",
       "      <th>Purchased</th>\n",
       "    </tr>\n",
       "  </thead>\n",
       "  <tbody>\n",
       "    <tr>\n",
       "      <th>0</th>\n",
       "      <td>19</td>\n",
       "      <td>19000.0</td>\n",
       "      <td>0.0</td>\n",
       "    </tr>\n",
       "    <tr>\n",
       "      <th>1</th>\n",
       "      <td>35</td>\n",
       "      <td>20000.0</td>\n",
       "      <td>0.0</td>\n",
       "    </tr>\n",
       "    <tr>\n",
       "      <th>2</th>\n",
       "      <td>26</td>\n",
       "      <td>43000.0</td>\n",
       "      <td>0.0</td>\n",
       "    </tr>\n",
       "    <tr>\n",
       "      <th>3</th>\n",
       "      <td>27</td>\n",
       "      <td>57000.0</td>\n",
       "      <td>0.0</td>\n",
       "    </tr>\n",
       "    <tr>\n",
       "      <th>4</th>\n",
       "      <td>19</td>\n",
       "      <td>76000.0</td>\n",
       "      <td>0.0</td>\n",
       "    </tr>\n",
       "    <tr>\n",
       "      <th>...</th>\n",
       "      <td>...</td>\n",
       "      <td>...</td>\n",
       "      <td>...</td>\n",
       "    </tr>\n",
       "    <tr>\n",
       "      <th>398</th>\n",
       "      <td>36</td>\n",
       "      <td>33000.0</td>\n",
       "      <td>0.0</td>\n",
       "    </tr>\n",
       "    <tr>\n",
       "      <th>399</th>\n",
       "      <td>49</td>\n",
       "      <td>36000.0</td>\n",
       "      <td>1.0</td>\n",
       "    </tr>\n",
       "    <tr>\n",
       "      <th>0</th>\n",
       "      <td>5</td>\n",
       "      <td>NaN</td>\n",
       "      <td>NaN</td>\n",
       "    </tr>\n",
       "    <tr>\n",
       "      <th>1</th>\n",
       "      <td>90</td>\n",
       "      <td>NaN</td>\n",
       "      <td>NaN</td>\n",
       "    </tr>\n",
       "    <tr>\n",
       "      <th>2</th>\n",
       "      <td>95</td>\n",
       "      <td>NaN</td>\n",
       "      <td>NaN</td>\n",
       "    </tr>\n",
       "  </tbody>\n",
       "</table>\n",
       "<p>403 rows × 3 columns</p>\n",
       "</div>"
      ],
      "text/plain": [
       "     Age  EstimatedSalary  Purchased\n",
       "0     19          19000.0        0.0\n",
       "1     35          20000.0        0.0\n",
       "2     26          43000.0        0.0\n",
       "3     27          57000.0        0.0\n",
       "4     19          76000.0        0.0\n",
       "..   ...              ...        ...\n",
       "398   36          33000.0        0.0\n",
       "399   49          36000.0        1.0\n",
       "0      5              NaN        NaN\n",
       "1     90              NaN        NaN\n",
       "2     95              NaN        NaN\n",
       "\n",
       "[403 rows x 3 columns]"
      ]
     },
     "execution_count": 32,
     "metadata": {},
     "output_type": "execute_result"
    }
   ],
   "source": [
    "df"
   ]
  },
  {
   "cell_type": "code",
   "execution_count": null,
   "id": "3e9d7289",
   "metadata": {},
   "outputs": [],
   "source": []
  }
 ],
 "metadata": {
  "kernelspec": {
   "display_name": "Python 3 (ipykernel)",
   "language": "python",
   "name": "python3"
  },
  "language_info": {
   "codemirror_mode": {
    "name": "ipython",
    "version": 3
   },
   "file_extension": ".py",
   "mimetype": "text/x-python",
   "name": "python",
   "nbconvert_exporter": "python",
   "pygments_lexer": "ipython3",
   "version": "3.10.9"
  }
 },
 "nbformat": 4,
 "nbformat_minor": 5
}
